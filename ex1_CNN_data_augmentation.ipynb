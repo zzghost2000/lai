{
  "nbformat": 4,
  "nbformat_minor": 0,
  "metadata": {
    "colab": {
      "name": "ex1_CNN_data_augmentation.ipynb",
      "version": "0.3.2",
      "provenance": [],
      "collapsed_sections": [],
      "include_colab_link": true
    },
    "kernelspec": {
      "name": "python3",
      "display_name": "Python 3"
    },
    "accelerator": "GPU"
  },
  "cells": [
    {
      "cell_type": "markdown",
      "metadata": {
        "id": "view-in-github",
        "colab_type": "text"
      },
      "source": [
        "<a href=\"https://colab.research.google.com/github/zzghost2000/lai/blob/master/ex1_CNN_data_augmentation.ipynb\" target=\"_parent\"><img src=\"https://colab.research.google.com/assets/colab-badge.svg\" alt=\"Open In Colab\"/></a>"
      ]
    },
    {
      "metadata": {
        "id": "qjQnu80ijCa-",
        "colab_type": "text"
      },
      "cell_type": "markdown",
      "source": [
        "# CNN + Data Augmentation 練習"
      ]
    },
    {
      "metadata": {
        "id": "qbivP7xbNujz",
        "colab_type": "code",
        "outputId": "6befd2c1-abec-41b7-f86e-69a520633b2e",
        "colab": {
          "base_uri": "https://localhost:8080/",
          "height": 34
        }
      },
      "cell_type": "code",
      "source": [
        "# Check GPU\n",
        "import tensorflow as tf\n",
        "tf.test.gpu_device_name()"
      ],
      "execution_count": 0,
      "outputs": [
        {
          "output_type": "execute_result",
          "data": {
            "text/plain": [
              "'/device:GPU:0'"
            ]
          },
          "metadata": {
            "tags": []
          },
          "execution_count": 1
        }
      ]
    },
    {
      "metadata": {
        "id": "vjFmupouR8XP",
        "colab_type": "code",
        "outputId": "391b7653-e8b3-41a9-b98a-e7dc52f593c9",
        "colab": {
          "base_uri": "https://localhost:8080/",
          "height": 34
        }
      },
      "cell_type": "code",
      "source": [
        "# import package\n",
        "import keras\n",
        "from keras.datasets import cifar10\n",
        "from keras.preprocessing.image import ImageDataGenerator\n",
        "from keras.models import Sequential\n",
        "from keras.layers import Dense, Dropout, Activation, Flatten, BatchNormalization\n",
        "from keras.layers import Conv2D, MaxPooling2D\n",
        "import numpy as np\n",
        "import os\n",
        "import matplotlib.pyplot as plt\n",
        "%matplotlib inline"
      ],
      "execution_count": 0,
      "outputs": [
        {
          "output_type": "stream",
          "text": [
            "Using TensorFlow backend.\n"
          ],
          "name": "stderr"
        }
      ]
    },
    {
      "metadata": {
        "id": "kxBu1rarjRU0",
        "colab_type": "text"
      },
      "cell_type": "markdown",
      "source": [
        "## Cifar10 資料讀入及前處理"
      ]
    },
    {
      "metadata": {
        "id": "QYgqOHHNSGi2",
        "colab_type": "code",
        "outputId": "70a7baad-7b6a-4d59-cd04-6fc9bea69638",
        "colab": {
          "base_uri": "https://localhost:8080/",
          "height": 50
        }
      },
      "cell_type": "code",
      "source": [
        "# The data, split between train and test sets:\n",
        "(x_train, y_train), (x_test, y_test) = cifar10.load_data()\n",
        "\n",
        "x_train = x_train[:10000,:,:,:]\n",
        "y_train = y_train[:10000,]\n",
        "\n",
        "print('x_train shape:', x_train.shape)\n",
        "print(x_train.shape[0], 'train samples')\n",
        "print(x_test.shape[0], 'test samples')"
      ],
      "execution_count": 0,
      "outputs": [
        {
          "output_type": "stream",
          "text": [
            "Downloading data from https://www.cs.toronto.edu/~kriz/cifar-10-python.tar.gz\n",
            "164864000/170498071 [============================>.] - ETA: 1s"
          ],
          "name": "stdout"
        }
      ]
    },
    {
      "metadata": {
        "id": "Q40s0Ia6SOAX",
        "colab_type": "code",
        "colab": {}
      },
      "cell_type": "code",
      "source": [
        "# image preprocessing\n",
        "x_train = x_train.astype('float32')\n",
        "x_test = x_test.astype('float32')\n",
        "\n",
        "x_train = x_train/255  # rescaling\n",
        "x_test = x_test/255  # rescaling\n",
        "\n",
        "# show image\n",
        "\n",
        "fig = plt.figure()\n",
        "plt.subplot(121)\n",
        "plt.grid(False)\n",
        "plt.imshow(x_train[0])\n",
        "\n",
        "plt.subplot(122)\n",
        "plt.grid(False)\n",
        "plt.imshow(x_train[1])\n",
        "\n",
        "plt.show()"
      ],
      "execution_count": 0,
      "outputs": []
    },
    {
      "metadata": {
        "id": "GCIjH6hlSInp",
        "colab_type": "code",
        "colab": {}
      },
      "cell_type": "code",
      "source": [
        "# Convert class vectors to binary class matrices.\n",
        "num_classes = 10\n",
        "y_train = keras.utils.to_categorical(y_train, num_classes)\n",
        "y_test = keras.utils.to_categorical(y_test, num_classes)\n",
        "print('y_train shape:', y_train.shape)"
      ],
      "execution_count": 0,
      "outputs": []
    },
    {
      "metadata": {
        "id": "9XztCjwBji51",
        "colab_type": "code",
        "colab": {}
      },
      "cell_type": "code",
      "source": [
        "## result's dictionary\n",
        "model_result = dict()\n",
        "model_result['acc'] = dict()\n",
        "model_result['loss'] = dict()\n",
        "model_result['val_acc'] = dict()\n",
        "model_result['val_loss'] = dict()"
      ],
      "execution_count": 0,
      "outputs": []
    },
    {
      "metadata": {
        "id": "hvxldzZ5jjpR",
        "colab_type": "text"
      },
      "cell_type": "markdown",
      "source": [
        "## 模型定義"
      ]
    },
    {
      "metadata": {
        "id": "HSwevVRwSKBK",
        "colab_type": "code",
        "colab": {}
      },
      "cell_type": "code",
      "source": [
        "#@title { vertical-output: true }\n",
        "# define model structure.\n",
        "model = Sequential()\n",
        "model.add(Conv2D(32, (3, 3), padding='same',\n",
        "                 input_shape=x_train.shape[1:]))\n",
        "model.add(BatchNormalization())\n",
        "model.add(Activation('relu'))\n",
        "model.add(Conv2D(32, (3, 3)))\n",
        "model.add(BatchNormalization())\n",
        "model.add(Activation('relu'))\n",
        "model.add(MaxPooling2D(pool_size=(2, 2)))\n",
        "model.add(Dropout(0.25))\n",
        "\n",
        "model.add(Conv2D(64, (3, 3), padding='same'))\n",
        "model.add(BatchNormalization())\n",
        "model.add(Activation('relu'))\n",
        "model.add(Conv2D(64, (3, 3)))\n",
        "model.add(BatchNormalization())\n",
        "model.add(Activation('relu'))\n",
        "model.add(MaxPooling2D(pool_size=(2, 2)))\n",
        "model.add(Dropout(0.25))\n",
        "\n",
        "model.add(Flatten())\n",
        "model.add(Dense(512))\n",
        "model.add(BatchNormalization())\n",
        "model.add(Activation('relu'))\n",
        "model.add(Dropout(0.25))\n",
        "model.add(Dense(num_classes))\n",
        "model.add(Activation('softmax'))\n",
        "\n",
        "print(model.summary())"
      ],
      "execution_count": 0,
      "outputs": []
    },
    {
      "metadata": {
        "id": "dtPtV8bwSMO7",
        "colab_type": "code",
        "colab": {}
      },
      "cell_type": "code",
      "source": [
        "# initiate optimizer\n",
        "\n",
        "learning_rate = 0.001\n",
        "optimizer = keras.optimizers.Adam(lr=learning_rate)\n",
        "\n",
        "model.compile(loss='categorical_crossentropy',\n",
        "              optimizer=optimizer,\n",
        "              metrics=['accuracy'])"
      ],
      "execution_count": 0,
      "outputs": []
    },
    {
      "metadata": {
        "id": "Ldw-zoshjx38",
        "colab_type": "text"
      },
      "cell_type": "markdown",
      "source": [
        "# Data Augmentation"
      ]
    },
    {
      "metadata": {
        "id": "lJVCV4ApSEmI",
        "colab_type": "code",
        "cellView": "both",
        "colab": {}
      },
      "cell_type": "code",
      "source": [
        "#@title Hyperparameter Setting { vertical-output: true }\n",
        "data_augmentation = True #@param {type:\"boolean\"}\n",
        "batch_size = 32 #@param {type:\"integer\"}\n",
        "epochs = 15 #@param {type:\"integer\"}\n"
      ],
      "execution_count": 0,
      "outputs": []
    },
    {
      "metadata": {
        "id": "rQMaX4XISPrO",
        "colab_type": "code",
        "colab": {}
      },
      "cell_type": "code",
      "source": [
        "#@title Data Augmentation Parameter Setting { vertical-output: true }\n",
        "if data_augmentation:\n",
        "    featurewise_center = False #@param {type:\"boolean\"}\n",
        "    samplewise_center = False #@param {type:\"boolean\"}\n",
        "    featurewise_std_normalization = False #@param {type:\"boolean\"}\n",
        "    samplewise_std_normalization = False #@param {type:\"boolean\"}\n",
        "    rotation_range = 0 #@param {type:\"slider\", min:0, max:180, step:1}\n",
        "    width_shift_range = 0.1 #@param {type:\"slider\", min:0, max:1, step:0.01}\n",
        "    height_shift_range = 0.1 #@param {type:\"slider\", min:0, max:1, step:0.01}\n",
        "    horizontal_flip = True #@param {type:\"boolean\"}\n",
        "    vertical_flip = False #@param {type:\"boolean\"}\n",
        "    fill_mode = 'constant' #@param [\"nearest\", \"constant\", \"reflect\", \"wrap\"] {type:\"string\"}\n",
        "    cval = 0 #@param {type:\"slider\", min:0, max:255, step:1}"
      ],
      "execution_count": 0,
      "outputs": []
    },
    {
      "metadata": {
        "id": "w3ZbQfBhkKQ_",
        "colab_type": "text"
      },
      "cell_type": "markdown",
      "source": [
        "## 開始訓練模型 (Data augmentation 參數設置)"
      ]
    },
    {
      "metadata": {
        "id": "dQ8rNZ9Cd7Ba",
        "colab_type": "code",
        "colab": {}
      },
      "cell_type": "code",
      "source": [
        "#@title { vertical-output: true }\n",
        "if not data_augmentation:\n",
        "    print('Not using data augmentation.')\n",
        "    model.fit(x_train, y_train,\n",
        "              batch_size=batch_size,\n",
        "              epochs=epochs,\n",
        "              validation_data=(x_test, y_test),\n",
        "              shuffle=True)\n",
        "else:\n",
        "    print('Using real-time data augmentation.')\n",
        "    # This will do preprocessing and realtime data augmentation:\n",
        "    # https://keras.io/preprocessing/image/\n",
        "    datagen = ImageDataGenerator(\n",
        "        featurewise_center=featurewise_center,  # 為使數據集去中心化(使均值為0)\n",
        "        samplewise_center=samplewise_center,  # 使輸入數據的每個樣本均值為0\n",
        "        featurewise_std_normalization=featurewise_std_normalization,  # 將輸入除以數據集的標準差以完成標準化\n",
        "        samplewise_std_normalization=samplewise_std_normalization,  # 將輸入的每個樣本除以其自身的標準差\n",
        "        rotation_range=rotation_range, # 隨機旋轉的度數範圍。 (degrees, 0 to 180)\n",
        "        width_shift_range=width_shift_range,  # 隨機水平移動的範圍。 (總高度的比例)\n",
        "        height_shift_range=height_shift_range,  # 隨機垂直移動的範圍。 (總高度的比例)\n",
        "        horizontal_flip=horizontal_flip,  # 隨機水平翻轉。\n",
        "        vertical_flip=vertical_flip,  # 隨機垂直翻轉\n",
        "        fill_mode=fill_mode,  # 補全缺失圖片值\n",
        "        cval=cval)  ## 補浮點數或整數用於邊界之外的點的值 (當fill mode = constant時需要用到)\n",
        "\n",
        "    # Compute quantities required for feature-wise normalization\n",
        "    # (std, mean, and principal components if ZCA whitening is applied).\n",
        "    datagen.fit(x_train)\n",
        "\n",
        "    # Fit the model on the batches generated by datagen.flow().\n",
        "    model.fit_generator(datagen.flow(x_train, y_train,\n",
        "                                     batch_size=batch_size),\n",
        "                        steps_per_epoch=x_train.shape[0] // batch_size +1,\n",
        "                        epochs=epochs,\n",
        "                        validation_data=(x_test, y_test))\n",
        "    \n",
        "    \n",
        "# data Augmentation後的圖片\n",
        "print('After Data augmentation ：')\n",
        "datagenerator = datagen.flow(x_train[0:2],batch_size=2)\n",
        "\n",
        "img_after_augmentation = datagenerator.next()\n",
        "\n",
        "# show the image\n",
        "\n",
        "fig = plt.figure()\n",
        "plt.subplot(121)\n",
        "plt.grid(False)\n",
        "plt.imshow(img_after_augmentation[0])\n",
        "\n",
        "plt.subplot(122)\n",
        "plt.grid(False)\n",
        "plt.imshow(img_after_augmentation[1])\n",
        "\n",
        "plt.show()"
      ],
      "execution_count": 0,
      "outputs": []
    },
    {
      "metadata": {
        "id": "nZBlMAU7kEwK",
        "colab_type": "text"
      },
      "cell_type": "markdown",
      "source": [
        "## 訓練結果視覺化"
      ]
    },
    {
      "metadata": {
        "id": "-LmUP6gQSR-P",
        "colab_type": "code",
        "colab": {}
      },
      "cell_type": "code",
      "source": [
        "#@title Save Learning Result { vertical-output: true }\n",
        "experiment = \"data augmentation\"\n",
        "\n",
        "model_result['acc'][experiment] = model.model.history.history.get('acc')\n",
        "model_result['val_acc'][experiment] = model.model.history.history.get('val_acc')\n",
        "model_result['loss'][experiment] = model.model.history.history.get('loss')\n",
        "model_result['val_loss'][experiment] = model.model.history.history.get('val_loss')"
      ],
      "execution_count": 0,
      "outputs": []
    },
    {
      "metadata": {
        "id": "XtUqvUzVSU82",
        "colab_type": "code",
        "colab": {}
      },
      "cell_type": "code",
      "source": [
        "#@title Model Result { vertical-output: true }\n",
        "import matplotlib.pyplot as plt\n",
        "\n",
        "# training loss\n",
        "for i in model_result['loss'].keys():\n",
        "    plt.plot(np.arange(len(model_result['loss'][i])), model_result['loss'][i], label = i)\n",
        "\n",
        "plt.legend(loc='best')\n",
        "plt.title('loss')\n",
        "plt.show()\n",
        "\n",
        "# training acc\n",
        "for i in model_result['acc'].keys():\n",
        "    plt.plot(np.arange(len(model_result['acc'][i])), model_result['acc'][i], label = i)\n",
        "\n",
        "plt.legend(loc='best')\n",
        "plt.title('acc')\n",
        "plt.show()\n",
        "\n",
        "# valid loss\n",
        "for i in model_result['val_loss'].keys():\n",
        "    plt.plot(np.arange(len(model_result['val_loss'][i])), model_result['val_loss'][i], label = i)\n",
        "\n",
        "plt.legend(loc='best')\n",
        "plt.title('val_loss')\n",
        "plt.show()\n",
        "\n",
        "\n",
        "# valid acc\n",
        "for i in model_result['val_acc'].keys():\n",
        "    plt.plot(np.arange(len(model_result['val_acc'][i])), model_result['val_acc'][i], label = i)\n",
        "\n",
        "plt.legend(loc='best')\n",
        "plt.title('val_acc')\n",
        "plt.show()"
      ],
      "execution_count": 0,
      "outputs": []
    },
    {
      "metadata": {
        "id": "wk6elT6ogjA3",
        "colab_type": "code",
        "colab": {}
      },
      "cell_type": "code",
      "source": [
        ""
      ],
      "execution_count": 0,
      "outputs": []
    }
  ]
}